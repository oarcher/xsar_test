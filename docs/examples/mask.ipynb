{
 "cells": [
  {
   "cell_type": "markdown",
   "id": "43e63b1f",
   "metadata": {},
   "source": [
    "# Metadata vector mask and data raster mask\n",
    "\n",
    "[xsar.SentinelMeta](../basic_api.rst#xsar.SentinelMeta) can handle several masks. \n",
    "\n",
    "A mask is a shapely polygon within the [xsar.SentinelMeta.footprint](../basic_api.rst#xsar.SentinelMeta.footprint).\n",
    "Default mask is 'land', but the user can add customs masks by providing a [cartopy.feature.Feature](https://scitools.org.uk/cartopy/docs/latest/matplotlib/feature_interface.html) or a shapefile to [xsar.SentinelMeta.set_mask_feature](../basic_api.rst#xsar.SentinelMeta.set_mask_feature).\n",
    "\n",
    "A mask can be retrieved with [xsar.SentinelMeta.get_mask](../basic_api.rst#xsar.SentinelMeta.get_mask).\n",
    "\n",
    "When building an xarray dataset from a [xsar.SentinelMeta](../basic_api.rst#xsar.SentinelMeta) object with  [xsar.open_dataset](../basic_api.rst#xsar.open_dataset), masks are rasterized, to add a variable like 'land_mask' to the final dataset. (Not yet implemented)\n",
    "\n"
   ]
  },
  {
   "cell_type": "code",
   "execution_count": null,
   "id": "imported-metro",
   "metadata": {},
   "outputs": [],
   "source": [
    "import geopandas as gpd\n",
    "import pandas as pd\n",
    "import datetime\n",
    "import xsar\n",
    "from osgeo import ogr, gdal\n",
    "import shapely\n",
    "import cartopy\n",
    "import os\n",
    "import datetime\n",
    "import rasterio\n",
    "import rasterio.features"
   ]
  },
  {
   "cell_type": "code",
   "execution_count": null,
   "id": "right-processing",
   "metadata": {},
   "outputs": [],
   "source": [
    "# use holoviews for plots\n",
    "import holoviews as hv\n",
    "import geoviews as gv\n",
    "import geoviews.feature as gf\n",
    "hv.extension('bokeh')\n",
    "gv.extension('bokeh')\n",
    "from holoviews.operation.datashader import datashade,rasterize"
   ]
  },
  {
   "cell_type": "markdown",
   "id": "b6d2f6a6",
   "metadata": {},
   "source": [
    "## Metadata vector mask\n",
    "\n",
    "[xsar.SentinelMeta.footprint](../basic_api.rst#xsar.SentinelMeta.footprint) is the aquisition footprint, e.g. a rectangle around the acquisition. \n",
    "\n",
    "Metadata masks are a [shapely.geometry](https://shapely.readthedocs.io/) object, computed from the intersection between [xsar.SentinelMeta.footprint](../basic_api.rst#xsar.SentinelMeta.footprint) and a [cartopy.feature.Feature](https://scitools.org.uk/cartopy/docs/latest/matplotlib/feature_interface.html) object. "
   ]
  },
  {
   "cell_type": "code",
   "execution_count": null,
   "id": "analyzed-tunisia",
   "metadata": {},
   "outputs": [],
   "source": [
    "# here is the acquisition footprint, whithout land information\n",
    "filename = xsar.get_test_file('S1B_IW_GRDH_1SDV_20181013T062322_20181013T062347_013130_018428_Z000.SAFE')\n",
    "s1meta = xsar.SentinelMeta(filename)\n",
    "s1meta.footprint"
   ]
  },
  {
   "cell_type": "markdown",
   "id": "3d083fdf-bf52-4a21-87d8-4c7afbba0528",
   "metadata": {},
   "source": [
    "A mask is a shape within [xsar.SentinelMeta.footprint](../basic_api.rst#xsar.SentinelMeta.footprint) that can be retrieved by [xsar.SentinelMeta.get_mask](../basic_api.rst#xsar.SentinelMeta.get_mask)"
   ]
  },
  {
   "cell_type": "code",
   "execution_count": null,
   "id": "36743453-fd1d-4166-97ba-e791a66808a3",
   "metadata": {},
   "outputs": [],
   "source": [
    "default_land_footprint = s1meta.get_mask('land')\n",
    "default_land_footprint"
   ]
  },
  {
   "cell_type": "markdown",
   "id": "bdd90516-1e5f-427e-8b1d-2d47e8009b5c",
   "metadata": {},
   "source": [
    "A mask can be changed or added with [xsar.SentinelMeta.set_mask_feature](../basic_api.rst#xsar.SentinelMeta.set_mask_feature). \n",
    "\n",
    "Here, we are defining a new 'ocean' mask: "
   ]
  },
  {
   "cell_type": "code",
   "execution_count": null,
   "id": "825e4619-0c5d-416b-8f3c-7dfeb4b245c6",
   "metadata": {},
   "outputs": [],
   "source": [
    "s1meta.set_mask_feature('ocean', cartopy.feature.OCEAN)\n",
    "s1meta.get_mask('ocean')"
   ]
  },
  {
   "cell_type": "markdown",
   "id": "c43fbec9",
   "metadata": {},
   "source": [
    "### High resolution mask\n",
    "\n",
    "Default [cartopy.feature.LAND](https://scitools.org.uk/cartopy/docs/latest/matplotlib/feature_interface.html#cartopy.feature.LAND) is low resolution, but [xsar.SentinelMeta.set_mask_feature](../basic_api.rst#xsar.SentinelMeta.set_mask_feature) allow to give better resolution features with [cartopy.feature.Feature](https://scitools.org.uk/cartopy/docs/latest/matplotlib/feature_interface.html) or a user defined shapefile.\n",
    "\n"
   ]
  },
  {
   "cell_type": "markdown",
   "id": "7dcf438f",
   "metadata": {},
   "source": [
    "  - NaturalEarthFeature\n",
    "\n",
    "With [cartopy.feature.NaturalEarthFeature](https://scitools.org.uk/cartopy/docs/latest/matplotlib/feature_interface.html#cartopy.feature.NaturalEarthFeature)"
   ]
  },
  {
   "cell_type": "code",
   "execution_count": null,
   "id": "97b7dee9",
   "metadata": {},
   "outputs": [],
   "source": [
    "# the 'land' mask is ovewritten\n",
    "s1meta.set_mask_feature('land', cartopy.feature.NaturalEarthFeature('physical', 'land', '10m'))\n",
    "ne_10m_land_footprint = s1meta.get_mask('land')\n",
    "ne_10m_land_footprint"
   ]
  },
  {
   "cell_type": "markdown",
   "id": "c089b69b",
   "metadata": {},
   "source": [
    "  - GSHHSFeature\n",
    "\n",
    "With [cartopy.feature.GSHHSFeature](https://scitools.org.uk/cartopy/docs/latest/matplotlib/feature_interface.html#cartopy.feature.GSHHSFeature)"
   ]
  },
  {
   "cell_type": "code",
   "execution_count": null,
   "id": "0724169e",
   "metadata": {},
   "outputs": [],
   "source": [
    "s1meta.set_mask_feature('land',cartopy.feature.GSHHSFeature(scale='full'))\n",
    "gshhs_land_footprint = s1meta.get_mask('land')\n",
    "gshhs_land_footprint"
   ]
  },
  {
   "cell_type": "markdown",
   "id": "67030bca",
   "metadata": {},
   "source": [
    "  - Custom feature from shapefile (openstreetmap)\n",
    "\n",
    "Cartopy has no backends for [openstreetmap shapefiles](https://wiki.openstreetmap.org/wiki/Shapefiles), but we can give any shapefile that can be read by [geopandas.read_file](https://geopandas.org/reference/geopandas.read_file.html#geopandas-read-file)  to \n",
    " [xsar.SentinelMeta.set_mask_feature](../basic_api.rst#xsar.SentinelMeta.set_mask_feature)  \n",
    "\n",
    ">**Optimisation note**\n",
    ">\n",
    "> *  Only shapes intersecting with footprint will be read in the shapefile. So performances will be better if shapes are split in smaller shapes (e.g. Eurasian polygon is not an huge polygon)\n",
    "> *  A [splitted version](https://osmdata.openstreetmap.de/data/land-polygons.html) from openstreetmap shapefile has been used to speedup access.\n"
   ]
  },
  {
   "cell_type": "code",
   "execution_count": null,
   "id": "0ced22aa",
   "metadata": {},
   "outputs": [],
   "source": [
    "s1meta.set_mask_feature('land', os.path.join(xsar.get_test_file('land-polygons-split-4326'),'land_polygons.shp'))\n",
    "osm_land_footprint = s1meta.get_mask('land')\n",
    "osm_land_footprint\n"
   ]
  },
  {
   "cell_type": "markdown",
   "id": "9c9d01e2",
   "metadata": {},
   "source": [
    "#### Resolutions comparison\n",
    "\n",
    "(Use the mouse to change zoom level)"
   ]
  },
  {
   "cell_type": "code",
   "execution_count": null,
   "id": "82d46ae7",
   "metadata": {},
   "outputs": [],
   "source": [
    "(gv.Shape(default_land_footprint).opts(title='default') \\\n",
    "+ gv.Shape(ne_10m_land_footprint).opts(title='ne_10m') \\\n",
    "+ gv.Shape(gshhs_land_footprint).opts(title='gshhs_full') \\\n",
    "+ gv.Shape(osm_land_footprint).opts(title='osm')).cols(2)"
   ]
  },
  {
   "cell_type": "markdown",
   "id": "03808064-910f-4e5d-a934-430e43998547",
   "metadata": {},
   "source": [
    "### Coordinates Reference System\n",
    "\n",
    "A metadata mask is defined in longitude/latitude reference (EPSG:4326), but the sar data has no CRS.\n",
    "However, sar data has Ground Control Points (GCP), that can be used to convert longitude and latitude to and from atrack and xtrack, with resp [s1meta.ll2coords](../basic_api.rst#xsar.SentinelMeta.ll2coords) and [s1meta.ll2coords](../basic_api.rst#xsar.SentinelMeta.coords2ll)"
   ]
  },
  {
   "cell_type": "code",
   "execution_count": null,
   "id": "856e09d4-e7d1-402c-961f-ef49a671bf9c",
   "metadata": {},
   "outputs": [],
   "source": [
    "osm_land_footprint_ax = s1meta.ll2coords(osm_land_footprint)\n",
    "osm_land_footprint_ax"
   ]
  },
  {
   "cell_type": "markdown",
   "id": "b3f61ad8-ebdd-488d-b86e-68f0330d0c64",
   "metadata": {},
   "source": [
    "So we are now able to plot the mask over the data"
   ]
  },
  {
   "cell_type": "code",
   "execution_count": null,
   "id": "57e50ee0-5556-4273-acb0-6354716d9527",
   "metadata": {},
   "outputs": [],
   "source": [
    "ds = xsar.open_dataset(s1meta)\n",
    "rasterize(hv.Image(((ds.digital_number.sel(pol='VH'))**(1/5))).persist().opts(cmap='gray',colorbar=True,tools=['hover'],title=\"xsar\")) \\\n",
    "* hv.Path(osm_land_footprint_ax).opts(color='lightgreen',width=800,height=800) "
   ]
  },
  {
   "cell_type": "markdown",
   "id": "93582d47-f588-45a0-ba66-2d763fe07b1e",
   "metadata": {},
   "source": [
    "## Data raster mask\n",
    "\n",
    "Data raster mask is currently not implemented.\n",
    "However, here is a method to get it. ( **Warning** : this is in-memory, non optimized for dask ! )"
   ]
  },
  {
   "cell_type": "code",
   "execution_count": null,
   "id": "d4ac9615-0f02-424d-9a94-ffa129792a97",
   "metadata": {},
   "outputs": [],
   "source": [
    "raster = rasterio.features.rasterize([osm_land_footprint_ax],out_shape=(ds.incidence.shape[1],ds.incidence.shape[0]), all_touched=True).T\n",
    "ds['land_mask'] = ( {'atrack': raster.shape[1] , 'xtrack': raster.shape[0]}, raster)\n",
    "ds['dn_masked'] = (ds.digital_number.sel(pol='VH')**(1/5)).where(ds['land_mask'] == 0).persist()\n",
    "rasterize(hv.Image(ds['dn_masked'])).opts(cmap='gray', width=800,height=800) \\\n",
    "* hv.Path(osm_land_footprint_ax).opts(color='lightgreen',width=800,height=800) "
   ]
  },
  {
   "cell_type": "markdown",
   "id": "c56abb50",
   "metadata": {},
   "source": [
    "## Performance comparison"
   ]
  },
  {
   "cell_type": "code",
   "execution_count": null,
   "id": "5349e408",
   "metadata": {},
   "outputs": [],
   "source": [
    "# Following code is to compare performances for different methods: it's not usefull for the end user\n",
    "\n",
    "index = ['default', 'ne_10m_land', 'gshhs_full_land' , 'osm']\n",
    "columns = ['feature_f', 'feature_init_time', 'land_footprint_time', 'land_footprint_ax_time', 'rasterize_time']\n",
    "\n",
    "land_features_df = pd.DataFrame(index=index, columns=columns)\n",
    "land_features_df.loc['default', 'feature_f'] = lambda: cartopy.feature.LAND\n",
    "land_features_df.loc['ne_10m_land', 'feature_f'] = lambda: cartopy.feature.NaturalEarthFeature('physical', 'land', '10m')\n",
    "land_features_df.loc['gshhs_full_land', 'feature_f'] = lambda: cartopy.feature.GSHHSFeature(scale='full')\n",
    "land_features_df.loc['osm', 'feature_f'] = lambda: os.path.join(xsar.get_test_file('land-polygons-split-4326'),'land_polygons.shp')\n",
    "\n",
    "raster_shape = s1meta.rio.shape\n",
    "for feature_idx, feature_rows in land_features_df.iterrows():\n",
    "    t1 = datetime.datetime.now()\n",
    "    s1meta.set_mask_feature('land',feature_rows['feature_f']())\n",
    "    land_features_df.at[feature_idx, 'feature_init_time'] = datetime.datetime.now() - t1\n",
    "    t1 = datetime.datetime.now()\n",
    "    land_footprint = s1meta.get_mask('land')\n",
    "    land_features_df.at[feature_idx, 'land_footprint_time'] = datetime.datetime.now() - t1\n",
    "    t1 = datetime.datetime.now()\n",
    "    land_footprint_ax = s1meta.ll2coords(land_footprint)\n",
    "    land_features_df.at[feature_idx, 'land_footprint_ax_time'] = datetime.datetime.now() - t1\n",
    "    t1 = datetime.datetime.now()\n",
    "    raster = rasterio.features.rasterize([land_footprint],out_shape=raster_shape)\n",
    "    land_features_df.at[feature_idx, 'rasterize_time'] = datetime.datetime.now() - t1\n",
    "land_features_df\n"
   ]
  }
 ],
 "metadata": {
  "language_info": {
   "name": "python",
   "pygments_lexer": "ipython3"
  }
 },
 "nbformat": 4,
 "nbformat_minor": 5
}
